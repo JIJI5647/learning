{
 "cells": [
  {
   "cell_type": "code",
   "execution_count": null,
   "id": "d1c1f548",
   "metadata": {
    "vscode": {
     "languageId": "plaintext"
    }
   },
   "outputs": [],
   "source": [
    "zmj"
   ]
  }
 ],
 "metadata": {
  "language_info": {
   "name": "python"
  }
 },
 "nbformat": 4,
 "nbformat_minor": 5
}
