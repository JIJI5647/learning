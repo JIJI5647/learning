{
 "cells": [
  {
   "cell_type": "code",
   "execution_count": null,
   "id": "2728be95",
   "metadata": {},
   "outputs": [],
   "source": [
    "# binary search\n",
    "class serach():\n",
    "    def binary_search(self,arr : list, target):\n",
    "        arr = sorted(arr)\n",
    "        left, right = -1, len(arr)\n",
    "        while left < right - 1 : \n",
    "            mid = left + (right - left) // 2\n",
    "            if arr[mid] > target:\n",
    "                right = mid\n",
    "            else :\n",
    "                left = mid\n",
    "        return left\n",
    "    \n"
   ]
  },
  {
   "cell_type": "code",
   "execution_count": null,
   "id": "12238e38",
   "metadata": {},
   "outputs": [
    {
     "data": {
      "text/plain": [
       "[1, 2, 3, 4, 5]"
      ]
     },
     "execution_count": 7,
     "metadata": {},
     "output_type": "execute_result"
    }
   ],
   "source": [
    "class sort():\n",
    "    def merge_sort(self,arr : list):\n",
    "        if len(arr) < 2 : \n",
    "            return arr\n",
    "        mid = len(arr) // 2\n",
    "        left = arr[ : mid]\n",
    "        right = arr[mid : ]\n",
    "        sorted_left = self.merge_sort(left)\n",
    "        sorted_right = self.merge_sort(right)\n",
    "        return self.merge(sorted_left,sorted_right)\n",
    "\n",
    "    def merge(self,a,b):\n",
    "        j = 0\n",
    "        res = []\n",
    "        for i in range(0,len(a)):\n",
    "            while j < len(b) and a[i] > b[j]:\n",
    "                res.append(b[j])\n",
    "                j += 1\n",
    "            res.append(a[i])\n",
    "        res += b[j:]\n",
    "        return res\n",
    "sort1 = sort()\n",
    "sort1.merge_sort([2,3,4,5,1])"
   ]
  },
  {
   "cell_type": "code",
   "execution_count": null,
   "id": "7d2f7131",
   "metadata": {},
   "outputs": [],
   "source": []
  }
 ],
 "metadata": {
  "kernelspec": {
   "display_name": "Python 3",
   "language": "python",
   "name": "python3"
  },
  "language_info": {
   "codemirror_mode": {
    "name": "ipython",
    "version": 3
   },
   "file_extension": ".py",
   "mimetype": "text/x-python",
   "name": "python",
   "nbconvert_exporter": "python",
   "pygments_lexer": "ipython3",
   "version": "3.11.5"
  }
 },
 "nbformat": 4,
 "nbformat_minor": 5
}
