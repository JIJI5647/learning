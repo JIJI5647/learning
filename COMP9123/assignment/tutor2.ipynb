{
 "cells": [
  {
   "cell_type": "markdown",
   "metadata": {},
   "source": [
    "Problem 1. Implement a Python class called Node that represents a single node in a singly linked list. Each node should contain:  \n",
    "\n",
    "- An integer value data\n",
    "- A reference to the next node next"
   ]
  },
  {
   "cell_type": "code",
   "execution_count": 47,
   "metadata": {},
   "outputs": [],
   "source": [
    "class Node():\n",
    "    def __init__(self, value : int = None, next = None ):\n",
    "        self.value = value\n",
    "        self.next = next\n",
    "    def print(self):\n",
    "        print(f\"next_value = {self.next.value}\")"
   ]
  },
  {
   "cell_type": "code",
   "execution_count": 48,
   "metadata": {},
   "outputs": [],
   "source": [
    "# Define the testing Node\n",
    "def make_node(values: list):\n",
    "    cur = head = Node()\n",
    "    for value in values[:len(values) - 1]:\n",
    "        next_ = Node()\n",
    "        cur.value = value\n",
    "        cur.next = next_\n",
    "        cur = next_\n",
    "    cur.value = values[-1]\n",
    "    return head\n",
    "try1 = make_node([1,2,3,4,5])"
   ]
  },
  {
   "cell_type": "markdown",
   "metadata": {},
   "source": [
    "Problem 2. Write a function traverse(head) that prints all elements of a singly linked list, starting from the head."
   ]
  },
  {
   "cell_type": "code",
   "execution_count": 49,
   "metadata": {},
   "outputs": [],
   "source": [
    "def traverse(head):\n",
    "    cur = head\n",
    "    while cur: \n",
    "        print(cur.value, end=\"\\t\")\n",
    "        cur = cur.next"
   ]
  },
  {
   "cell_type": "code",
   "execution_count": 50,
   "metadata": {},
   "outputs": [
    {
     "name": "stdout",
     "output_type": "stream",
     "text": [
      "1\t2\t3\t4\t5\t"
     ]
    }
   ],
   "source": [
    "traverse(try1)"
   ]
  },
  {
   "cell_type": "markdown",
   "metadata": {},
   "source": [
    "Problem 3. Implement a Python class called DoublyNode that represents a single node in a\n",
    "doubly linked list. Each node should contain:\n",
    "- An integer value data\n",
    "- A reference to the next node next\n",
    "- A reference to the previous node prev"
   ]
  },
  {
   "cell_type": "code",
   "execution_count": 51,
   "metadata": {},
   "outputs": [],
   "source": [
    "class DoublyNode():\n",
    "    def __init__(self, value : int, next = None, prev = None ):\n",
    "        self.value = value\n",
    "        self.next = next\n",
    "        self.prev = prev\n",
    "    def print(self):\n",
    "        print(f\"next_value = {self.next.value} \\t prev_value = {self.prev.value}\")"
   ]
  },
  {
   "cell_type": "markdown",
   "metadata": {},
   "source": [
    "Problem 4. Write a function insert at beginning(head, new data) that inserts a new node at the beginning of a singly linked list.\n"
   ]
  },
  {
   "cell_type": "code",
   "execution_count": 52,
   "metadata": {},
   "outputs": [],
   "source": [
    "def insert_begining(head, new_data):\n",
    "    data = Node(new_data)\n",
    "    data.next = head\n",
    "    head = data\n",
    "    return head"
   ]
  },
  {
   "cell_type": "code",
   "execution_count": 53,
   "metadata": {},
   "outputs": [
    {
     "name": "stdout",
     "output_type": "stream",
     "text": [
      "0\t1\t2\t3\t4\t5\t"
     ]
    }
   ],
   "source": [
    "try1 = insert_begining(try1, 0)\n",
    "traverse(try1)"
   ]
  },
  {
   "cell_type": "markdown",
   "metadata": {},
   "source": [
    "Problem 5. Write a function delete linked list, given its value. node(head, key) that removes a node from a doubly"
   ]
  },
  {
   "cell_type": "code",
   "execution_count": 54,
   "metadata": {},
   "outputs": [],
   "source": [
    "def delete_certain(head, value):\n",
    "    cur = head\n",
    "    while(cur.next!= None):\n",
    "        if cur.next.value == value:\n",
    "            temp = cur.next\n",
    "            cur.next = temp.next\n",
    "            temp.next = None\n",
    "            del temp\n",
    "            break\n",
    "    return head"
   ]
  },
  {
   "cell_type": "code",
   "execution_count": 55,
   "metadata": {},
   "outputs": [
    {
     "name": "stdout",
     "output_type": "stream",
     "text": [
      "0\t2\t3\t4\t5\t"
     ]
    }
   ],
   "source": [
    "try1 = delete_certain(try1, 1)\n",
    "traverse(try1)"
   ]
  },
  {
   "cell_type": "markdown",
   "metadata": {},
   "source": [
    " Problem 6. Given a singly linked list, we would like to traverse the elements of the list in reverse order.  \n",
    "\n",
    " a)  Design an algorithm that uses O(1) extra space. What is the best time complexity you can get?  \n",
    "\n",
    " b)  Design an algorithm that uses O(√n) extra space. What is the best time complexity you can get?  \n",
    "\n",
    " You are not allowed to modify the list, but you are allowed to use position/cursors to move around the list"
   ]
  },
  {
   "cell_type": "code",
   "execution_count": null,
   "metadata": {},
   "outputs": [],
   "source": []
  },
  {
   "cell_type": "code",
   "execution_count": 56,
   "metadata": {},
   "outputs": [
    {
     "name": "stdout",
     "output_type": "stream",
     "text": [
      "5\t4\t3\t2\t0\t"
     ]
    }
   ],
   "source": [
    "def reverse(head):\n",
    "    cur = None \n",
    "    next_ = head\n",
    "    while next_:\n",
    "        temp = next_.next\n",
    "        next_.next = cur\n",
    "        cur = next_\n",
    "        next_ = temp\n",
    "    return cur\n",
    "\n",
    "def reverse_traverse_a(head):\n",
    "    traverse(head)\n",
    "\n",
    "try1 = reverse(try1)\n",
    "reverse_traverse_a(try1)"
   ]
  },
  {
   "cell_type": "code",
   "execution_count": 57,
   "metadata": {},
   "outputs": [
    {
     "name": "stdout",
     "output_type": "stream",
     "text": [
      "5\t4\t3\t2\t0\t"
     ]
    }
   ],
   "source": [
    "traverse(try1)"
   ]
  },
  {
   "cell_type": "code",
   "execution_count": 58,
   "metadata": {},
   "outputs": [
    {
     "name": "stdout",
     "output_type": "stream",
     "text": [
      "0\t2\t3\t4\t5\t"
     ]
    }
   ],
   "source": [
    "def rever_traverse_b(head):\n",
    "    res = []\n",
    "    cur = head\n",
    "    while cur:\n",
    "        res.append(cur.value)\n",
    "        cur = cur.next\n",
    "    for i in range(len(res) - 1, -1, -1):\n",
    "        print(res[i], end = \"\\t\")\n",
    "\n",
    "rever_traverse_b(try1)"
   ]
  },
  {
   "cell_type": "markdown",
   "metadata": {},
   "source": [
    " Problem 7. Consider the problem of given an integer n, generating all possible permutations of the numbers {1,2,...,n}. Provide a recursive algorithm for this problem."
   ]
  },
  {
   "cell_type": "code",
   "execution_count": null,
   "metadata": {},
   "outputs": [],
   "source": []
  },
  {
   "cell_type": "code",
   "execution_count": 91,
   "metadata": {},
   "outputs": [
    {
     "data": {
      "text/plain": [
       "'asdasda'"
      ]
     },
     "execution_count": 91,
     "metadata": {},
     "output_type": "execute_result"
    }
   ],
   "source": [
    "def insert(position: int, s:str, inserted_s: str):\n",
    "    return s[0:position] + inserted_s + s[position:]\n",
    "insert(6,\"asdasd\",\"a\")"
   ]
  },
  {
   "cell_type": "code",
   "execution_count": null,
   "metadata": {},
   "outputs": [],
   "source": [
    "def generate_permutation(n):\n",
    "    if n == 1:\n",
    "        return [\"1\"]\n",
    "    res = []\n",
    "    for i in generate_permutation(n - 1):\n",
    "        for j in range(0,len(i) + 1):\n",
    "            res.append(insert(j, i, str(n)))\n",
    "    return res"
   ]
  },
  {
   "cell_type": "code",
   "execution_count": 96,
   "metadata": {},
   "outputs": [
    {
     "data": {
      "text/plain": [
       "720"
      ]
     },
     "execution_count": 96,
     "metadata": {},
     "output_type": "execute_result"
    }
   ],
   "source": [
    "len(generate_permutation(6))"
   ]
  }
 ],
 "metadata": {
  "kernelspec": {
   "display_name": "python_learning",
   "language": "python",
   "name": "python3"
  },
  "language_info": {
   "codemirror_mode": {
    "name": "ipython",
    "version": 3
   },
   "file_extension": ".py",
   "mimetype": "text/x-python",
   "name": "python",
   "nbconvert_exporter": "python",
   "pygments_lexer": "ipython3",
   "version": "3.10.13"
  }
 },
 "nbformat": 4,
 "nbformat_minor": 2
}
